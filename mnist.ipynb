{
 "cells": [
  {
   "cell_type": "markdown",
   "metadata": {},
   "source": [
    "## DIGIT RECOGNIZING - MNIST DATAASET (No pytorch/tf, just NUMPY)\n"
   ]
  },
  {
   "cell_type": "code",
   "execution_count": 8,
   "metadata": {},
   "outputs": [],
   "source": [
    "import numpy as np \n",
    "import matplotlib.pyplot as plt\n",
    "import pandas as pd\n"
   ]
  },
  {
   "cell_type": "markdown",
   "metadata": {},
   "source": [
    "THE MNIST DATASET WAS DOWNLOADED FROM KAGGLE "
   ]
  },
  {
   "cell_type": "code",
   "execution_count": 42,
   "metadata": {},
   "outputs": [
    {
     "data": {
      "text/html": [
       "<div>\n",
       "<style scoped>\n",
       "    .dataframe tbody tr th:only-of-type {\n",
       "        vertical-align: middle;\n",
       "    }\n",
       "\n",
       "    .dataframe tbody tr th {\n",
       "        vertical-align: top;\n",
       "    }\n",
       "\n",
       "    .dataframe thead th {\n",
       "        text-align: right;\n",
       "    }\n",
       "</style>\n",
       "<table border=\"1\" class=\"dataframe\">\n",
       "  <thead>\n",
       "    <tr style=\"text-align: right;\">\n",
       "      <th></th>\n",
       "      <th>label</th>\n",
       "      <th>pixel0</th>\n",
       "      <th>pixel1</th>\n",
       "      <th>pixel2</th>\n",
       "      <th>pixel3</th>\n",
       "      <th>pixel4</th>\n",
       "      <th>pixel5</th>\n",
       "      <th>pixel6</th>\n",
       "      <th>pixel7</th>\n",
       "      <th>pixel8</th>\n",
       "      <th>...</th>\n",
       "      <th>pixel774</th>\n",
       "      <th>pixel775</th>\n",
       "      <th>pixel776</th>\n",
       "      <th>pixel777</th>\n",
       "      <th>pixel778</th>\n",
       "      <th>pixel779</th>\n",
       "      <th>pixel780</th>\n",
       "      <th>pixel781</th>\n",
       "      <th>pixel782</th>\n",
       "      <th>pixel783</th>\n",
       "    </tr>\n",
       "  </thead>\n",
       "  <tbody>\n",
       "    <tr>\n",
       "      <th>0</th>\n",
       "      <td>1</td>\n",
       "      <td>0</td>\n",
       "      <td>0</td>\n",
       "      <td>0</td>\n",
       "      <td>0</td>\n",
       "      <td>0</td>\n",
       "      <td>0</td>\n",
       "      <td>0</td>\n",
       "      <td>0</td>\n",
       "      <td>0</td>\n",
       "      <td>...</td>\n",
       "      <td>0</td>\n",
       "      <td>0</td>\n",
       "      <td>0</td>\n",
       "      <td>0</td>\n",
       "      <td>0</td>\n",
       "      <td>0</td>\n",
       "      <td>0</td>\n",
       "      <td>0</td>\n",
       "      <td>0</td>\n",
       "      <td>0</td>\n",
       "    </tr>\n",
       "    <tr>\n",
       "      <th>1</th>\n",
       "      <td>0</td>\n",
       "      <td>0</td>\n",
       "      <td>0</td>\n",
       "      <td>0</td>\n",
       "      <td>0</td>\n",
       "      <td>0</td>\n",
       "      <td>0</td>\n",
       "      <td>0</td>\n",
       "      <td>0</td>\n",
       "      <td>0</td>\n",
       "      <td>...</td>\n",
       "      <td>0</td>\n",
       "      <td>0</td>\n",
       "      <td>0</td>\n",
       "      <td>0</td>\n",
       "      <td>0</td>\n",
       "      <td>0</td>\n",
       "      <td>0</td>\n",
       "      <td>0</td>\n",
       "      <td>0</td>\n",
       "      <td>0</td>\n",
       "    </tr>\n",
       "    <tr>\n",
       "      <th>2</th>\n",
       "      <td>1</td>\n",
       "      <td>0</td>\n",
       "      <td>0</td>\n",
       "      <td>0</td>\n",
       "      <td>0</td>\n",
       "      <td>0</td>\n",
       "      <td>0</td>\n",
       "      <td>0</td>\n",
       "      <td>0</td>\n",
       "      <td>0</td>\n",
       "      <td>...</td>\n",
       "      <td>0</td>\n",
       "      <td>0</td>\n",
       "      <td>0</td>\n",
       "      <td>0</td>\n",
       "      <td>0</td>\n",
       "      <td>0</td>\n",
       "      <td>0</td>\n",
       "      <td>0</td>\n",
       "      <td>0</td>\n",
       "      <td>0</td>\n",
       "    </tr>\n",
       "    <tr>\n",
       "      <th>3</th>\n",
       "      <td>4</td>\n",
       "      <td>0</td>\n",
       "      <td>0</td>\n",
       "      <td>0</td>\n",
       "      <td>0</td>\n",
       "      <td>0</td>\n",
       "      <td>0</td>\n",
       "      <td>0</td>\n",
       "      <td>0</td>\n",
       "      <td>0</td>\n",
       "      <td>...</td>\n",
       "      <td>0</td>\n",
       "      <td>0</td>\n",
       "      <td>0</td>\n",
       "      <td>0</td>\n",
       "      <td>0</td>\n",
       "      <td>0</td>\n",
       "      <td>0</td>\n",
       "      <td>0</td>\n",
       "      <td>0</td>\n",
       "      <td>0</td>\n",
       "    </tr>\n",
       "    <tr>\n",
       "      <th>4</th>\n",
       "      <td>0</td>\n",
       "      <td>0</td>\n",
       "      <td>0</td>\n",
       "      <td>0</td>\n",
       "      <td>0</td>\n",
       "      <td>0</td>\n",
       "      <td>0</td>\n",
       "      <td>0</td>\n",
       "      <td>0</td>\n",
       "      <td>0</td>\n",
       "      <td>...</td>\n",
       "      <td>0</td>\n",
       "      <td>0</td>\n",
       "      <td>0</td>\n",
       "      <td>0</td>\n",
       "      <td>0</td>\n",
       "      <td>0</td>\n",
       "      <td>0</td>\n",
       "      <td>0</td>\n",
       "      <td>0</td>\n",
       "      <td>0</td>\n",
       "    </tr>\n",
       "  </tbody>\n",
       "</table>\n",
       "<p>5 rows × 785 columns</p>\n",
       "</div>"
      ],
      "text/plain": [
       "   label  pixel0  pixel1  pixel2  pixel3  pixel4  pixel5  pixel6  pixel7  \\\n",
       "0      1       0       0       0       0       0       0       0       0   \n",
       "1      0       0       0       0       0       0       0       0       0   \n",
       "2      1       0       0       0       0       0       0       0       0   \n",
       "3      4       0       0       0       0       0       0       0       0   \n",
       "4      0       0       0       0       0       0       0       0       0   \n",
       "\n",
       "   pixel8  ...  pixel774  pixel775  pixel776  pixel777  pixel778  pixel779  \\\n",
       "0       0  ...         0         0         0         0         0         0   \n",
       "1       0  ...         0         0         0         0         0         0   \n",
       "2       0  ...         0         0         0         0         0         0   \n",
       "3       0  ...         0         0         0         0         0         0   \n",
       "4       0  ...         0         0         0         0         0         0   \n",
       "\n",
       "   pixel780  pixel781  pixel782  pixel783  \n",
       "0         0         0         0         0  \n",
       "1         0         0         0         0  \n",
       "2         0         0         0         0  \n",
       "3         0         0         0         0  \n",
       "4         0         0         0         0  \n",
       "\n",
       "[5 rows x 785 columns]"
      ]
     },
     "execution_count": 42,
     "metadata": {},
     "output_type": "execute_result"
    }
   ],
   "source": [
    "data = pd.read_csv('train.csv') #MNIST DATASET from kaggle\n",
    "data.head()\n"
   ]
  },
  {
   "cell_type": "code",
   "execution_count": 40,
   "metadata": {},
   "outputs": [
    {
     "data": {
      "text/plain": [
       "(42000, 785)"
      ]
     },
     "execution_count": 40,
     "metadata": {},
     "output_type": "execute_result"
    }
   ],
   "source": [
    "data.shape #we have 42000 images and 785 columns"
   ]
  },
  {
   "cell_type": "code",
   "execution_count": 46,
   "metadata": {},
   "outputs": [
    {
     "data": {
      "text/plain": [
       "(42000, 785)"
      ]
     },
     "execution_count": 46,
     "metadata": {},
     "output_type": "execute_result"
    }
   ],
   "source": [
    "data = np.array(data)\n",
    "np.random.shuffle(data) #shuffling the data\n",
    "m,n"
   ]
  },
  {
   "cell_type": "code",
   "execution_count": 217,
   "metadata": {},
   "outputs": [
    {
     "name": "stdout",
     "output_type": "stream",
     "text": [
      "(784, 42000)\n",
      "(42000,)\n"
     ]
    }
   ],
   "source": [
    "x = data[:, 1:].T/255.0  # extracting the pixel value \n",
    "y = data[:, 0]   # extracting the labels in the first column\n",
    "m, n = data.shape\n",
    "print(x.shape)\n",
    "print(y.shape)"
   ]
  },
  {
   "cell_type": "markdown",
   "metadata": {},
   "source": [
    "## DIGIT RECOGNIZING - MNIST DATAASET (No pytorch/tf, just NUMPY)\n"
   ]
  },
  {
   "cell_type": "code",
   "execution_count": 218,
   "metadata": {},
   "outputs": [
    {
     "data": {
      "image/png": "[encoded data removed]",
      "text/plain": [
       "<Figure size 640x480 with 1 Axes>"
      ]
     },
     "metadata": {},
     "output_type": "display_data"
    }
   ],
   "source": [
    "def image(a):\n",
    "    a = np.random.randint(0, m)\n",
    "    plt.imshow(x[:, a].reshape(28, 28), cmap='gray')\n",
    "    plt.title(\"Label : {}\".format(y[a]))\n",
    "    plt.show()\n",
    "#random image along with its label\n",
    "img = image(0)\n"
   ]
  },
  {
   "cell_type": "code",
   "execution_count": null,
   "metadata": {},
   "outputs": [
    {
     "data": {
      "text/plain": [
       "(10, 42000)"
      ]
     },
     "execution_count": 219,
     "metadata": {},
     "output_type": "execute_result"
    }
   ],
   "source": [
    "#one hot encoding\n",
    "def one_hot(y):\n",
    "    one_hot_y = np.zeros((10, y.size))\n",
    "    for i in range(y.size):\n",
    "        one_hot_y[y[i], i] = 1\n",
    "    return one_hot_y\n",
    "one_hot_y = one_hot(y)\n",
    "one_hot_y.shape"
   ]
  },
  {
   "cell_type": "code",
   "execution_count": 220,
   "metadata": {},
   "outputs": [
    {
     "name": "stdout",
     "output_type": "stream",
     "text": [
      "(10, 784) (10, 10) (10, 42000) (10, 42000)\n"
     ]
    },
    {
     "data": {
      "text/plain": [
       "((784, 42000), (10, 42000))"
      ]
     },
     "execution_count": 220,
     "metadata": {},
     "output_type": "execute_result"
    }
   ],
   "source": [
    "#def parameters() :\n",
    "\n",
    "class Parameters:\n",
    "    def __init__(self):\n",
    "        self.W1 = np.random.randn(10, 784) - 0.5   # adding bias to the weights\n",
    "        self.W2 = np.random.randn(10, 10) - 0.5\n",
    "        self.b1 = np.zeros((10,m)) - 0.5\n",
    "        self.b2 = np.zeros((10, m)) - 0.5  \n",
    "        self.alpha  = 0.1    # learning rate\n",
    "params = Parameters()\n",
    "W1 = params.W1\n",
    "W2 = params.W2\n",
    "b1 = params.b1\n",
    "b2 = params.b2\n",
    "alpha = params.alpha\n",
    "        \n",
    "\n",
    "print(W1.shape, W2.shape, b1.shape, b2.shape)\n",
    "x.shape, one_hot_y.shape\n",
    "\n"
   ]
  },
  {
   "cell_type": "code",
   "execution_count": 221,
   "metadata": {},
   "outputs": [],
   "source": [
    "#ACTIVATION FUNCTIONS \n",
    " \n",
    "def RELU(L):\n",
    "    return np.maximum(0, L) #rectified linear unit\n",
    "\n",
    "def softmax(x):\n",
    "    return np.exp(x) / np.sum(np.exp(x), axis=0) #softmax function\n",
    " "
   ]
  },
  {
   "cell_type": "code",
   "execution_count": 222,
   "metadata": {},
   "outputs": [],
   "source": [
    "def for_pass(W1, W2, b1, b2, x):\n",
    "    L1 = np.dot(W1, x) + b1 #first layer\n",
    "    A1 = RELU(L1) #activation function\n",
    "    L2 = np.dot(W2, A1) + b2 #second layer\n",
    "    A2 = softmax(L2) #activation function\n",
    "    return L1, A1, L2, A2\n",
    "\n",
    "\n",
    "\n",
    "L1, A1, L2, A2 = for_pass(W1, W2, b1, b2, x)\n"
   ]
  },
  {
   "cell_type": "code",
   "execution_count": 223,
   "metadata": {},
   "outputs": [],
   "source": [
    "def der_Relu(x):\n",
    "    x[x<=0] = 0\n",
    "    x[x>0] = 1\n",
    "    return x"
   ]
  },
  {
   "cell_type": "code",
   "execution_count": 234,
   "metadata": {},
   "outputs": [],
   "source": [
    "def back_pass(L2, A2, one_hot_y, W2, A1, x, L1):\n",
    "    dL2 = A2 - one_hot_y #error in the second layer\n",
    "    dW2 = np.dot(dL2, A1.T)/m #gradient of the weights in the second layer\n",
    "    db2 = np.sum(dL2, axis=1, keepdims=True)/m #gradient of the bias in the second layer\n",
    "    dL1 = np.dot(W2.T, dL2) * der_Relu(L1) #error in the first layer\n",
    "    dW1 = np.dot(dL1, x.T)/m #gradient of the weights in the first layer\n",
    "    db1 = np.sum(dL1, axis=1, keepdims=True)/m #gradient of the bias in the first layer\n",
    "    return dL2, dW2, db2, dL1, dW1, db1\n",
    "  \n"
   ]
  },
  {
   "cell_type": "code",
   "execution_count": 225,
   "metadata": {},
   "outputs": [],
   "source": [
    "def weight_update(W1, W2, b1, b2, dW1, dW2, db1, db2, alpha) :\n",
    "    #alpha = 0.01\n",
    "    W1 = W1 - alpha*dW1    #aplha is the learning rate\n",
    "    W2 = W2 - alpha*dW2\n",
    "    b1 = b1 - alpha*db1\n",
    "    b2 = b2 - alpha*db2\n",
    "    return W1, W2, b1, b2"
   ]
  },
  {
   "cell_type": "code",
   "execution_count": 226,
   "metadata": {},
   "outputs": [],
   "source": [
    "def get_predictions(A2) :\n",
    "    return np.argmax(A2, 0) #returns the index of the maximum value in the array"
   ]
  },
  {
   "cell_type": "code",
   "execution_count": 237,
   "metadata": {},
   "outputs": [],
   "source": [
    "def get_accuracy(predictions, y):\n",
    "    return np.sum(predictions == y) / y.size  # returns the accuracy of the model\n"
   ]
  },
  {
   "cell_type": "code",
   "execution_count": 239,
   "metadata": {},
   "outputs": [
    {
     "name": "stdout",
     "output_type": "stream",
     "text": [
      "accuracy is 0.09838095238095237\n"
     ]
    },
    {
     "ename": "KeyboardInterrupt",
     "evalue": "",
     "output_type": "error",
     "traceback": [
      "\u001b[1;31m---------------------------------------------------------------------------\u001b[0m",
      "\u001b[1;31mKeyboardInterrupt\u001b[0m                         Traceback (most recent call last)",
      "Cell \u001b[1;32mIn[239], line 21\u001b[0m\n\u001b[0;32m     18\u001b[0m            \u001b[38;5;28mprint\u001b[39m(\u001b[38;5;124mf\u001b[39m\u001b[38;5;124m\"\u001b[39m\u001b[38;5;124maccuracy is \u001b[39m\u001b[38;5;132;01m{\u001b[39;00maccuracy\u001b[38;5;132;01m}\u001b[39;00m\u001b[38;5;124m\"\u001b[39m)\n\u001b[0;32m     19\u001b[0m     \u001b[38;5;28;01mreturn\u001b[39;00m W1, W2, b1, b2\n\u001b[1;32m---> 21\u001b[0m W1, W2, b1, b2, A2 \u001b[38;5;241m=\u001b[39m \u001b[43mgradient_descent\u001b[49m\u001b[43m(\u001b[49m\u001b[43mx\u001b[49m\u001b[43m,\u001b[49m\u001b[43m \u001b[49m\u001b[43mone_hot_y\u001b[49m\u001b[43m,\u001b[49m\u001b[43m \u001b[49m\u001b[38;5;241;43m0.01\u001b[39;49m\u001b[43m,\u001b[49m\u001b[43m \u001b[49m\u001b[38;5;241;43m1000\u001b[39;49m\u001b[43m)\u001b[49m\n\u001b[0;32m     22\u001b[0m L1, A1, L2, A2 \u001b[38;5;241m=\u001b[39m for_pass(W1, W2, b1, b2, x)\n\u001b[0;32m     23\u001b[0m predictions \u001b[38;5;241m=\u001b[39m get_predictions(A2)\n",
      "Cell \u001b[1;32mIn[239], line 11\u001b[0m, in \u001b[0;36mgradient_descent\u001b[1;34m(x, one_hot_y, alpha, iterations)\u001b[0m\n\u001b[0;32m      9\u001b[0m L1, A1, L2, A2 \u001b[38;5;241m=\u001b[39m for_pass(W1, W2, b1, b2, x)\n\u001b[0;32m     10\u001b[0m \u001b[38;5;66;03m#backward pass \u001b[39;00m\n\u001b[1;32m---> 11\u001b[0m dL2, dW2, db2, dL1, dW1, db1 \u001b[38;5;241m=\u001b[39m \u001b[43mback_pass\u001b[49m\u001b[43m(\u001b[49m\u001b[43mL2\u001b[49m\u001b[43m,\u001b[49m\u001b[43m \u001b[49m\u001b[43mA2\u001b[49m\u001b[43m,\u001b[49m\u001b[43m \u001b[49m\u001b[43mone_hot_y\u001b[49m\u001b[43m,\u001b[49m\u001b[43m \u001b[49m\u001b[43mW2\u001b[49m\u001b[43m,\u001b[49m\u001b[43m \u001b[49m\u001b[43mA1\u001b[49m\u001b[43m,\u001b[49m\u001b[43m \u001b[49m\u001b[43mx\u001b[49m\u001b[43m,\u001b[49m\u001b[43m \u001b[49m\u001b[43mL1\u001b[49m\u001b[43m)\u001b[49m\n\u001b[0;32m     12\u001b[0m \u001b[38;5;66;03m#weight update\u001b[39;00m\n\u001b[0;32m     13\u001b[0m W1, W2, b1, b2 \u001b[38;5;241m=\u001b[39m weight_update(W1, W2, b1, b2, dW1, dW2, db1, db2, alpha)\n",
      "Cell \u001b[1;32mIn[234], line 6\u001b[0m, in \u001b[0;36mback_pass\u001b[1;34m(L2, A2, one_hot_y, W2, A1, x, L1)\u001b[0m\n\u001b[0;32m      4\u001b[0m db2 \u001b[38;5;241m=\u001b[39m np\u001b[38;5;241m.\u001b[39msum(dL2, axis\u001b[38;5;241m=\u001b[39m\u001b[38;5;241m1\u001b[39m, keepdims\u001b[38;5;241m=\u001b[39m\u001b[38;5;28;01mTrue\u001b[39;00m)\u001b[38;5;241m/\u001b[39mm \u001b[38;5;66;03m#gradient of the bias in the second layer\u001b[39;00m\n\u001b[0;32m      5\u001b[0m dL1 \u001b[38;5;241m=\u001b[39m np\u001b[38;5;241m.\u001b[39mdot(W2\u001b[38;5;241m.\u001b[39mT, dL2) \u001b[38;5;241m*\u001b[39m der_Relu(L1) \u001b[38;5;66;03m#error in the first layer\u001b[39;00m\n\u001b[1;32m----> 6\u001b[0m dW1 \u001b[38;5;241m=\u001b[39m \u001b[43mnp\u001b[49m\u001b[38;5;241;43m.\u001b[39;49m\u001b[43mdot\u001b[49m\u001b[43m(\u001b[49m\u001b[43mdL1\u001b[49m\u001b[43m,\u001b[49m\u001b[43m \u001b[49m\u001b[43mx\u001b[49m\u001b[38;5;241;43m.\u001b[39;49m\u001b[43mT\u001b[49m\u001b[43m)\u001b[49m\u001b[38;5;241m/\u001b[39mm \u001b[38;5;66;03m#gradient of the weights in the first layer\u001b[39;00m\n\u001b[0;32m      7\u001b[0m db1 \u001b[38;5;241m=\u001b[39m np\u001b[38;5;241m.\u001b[39msum(dL1, axis\u001b[38;5;241m=\u001b[39m\u001b[38;5;241m1\u001b[39m, keepdims\u001b[38;5;241m=\u001b[39m\u001b[38;5;28;01mTrue\u001b[39;00m)\u001b[38;5;241m/\u001b[39mm \u001b[38;5;66;03m#gradient of the bias in the first layer\u001b[39;00m\n\u001b[0;32m      8\u001b[0m \u001b[38;5;28;01mreturn\u001b[39;00m dL2, dW2, db2, dL1, dW1, db1\n",
      "\u001b[1;31mKeyboardInterrupt\u001b[0m: "
     ]
    }
   ],
   "source": [
    "def gradient_descent(x, one_hot_y, alpha, iterations):\n",
    "    #W1, W2, b1, b2 = parameters()\n",
    "    W1 = params.W1\n",
    "    W2 = params.W2\n",
    "    b1 = params.b1\n",
    "    b2 = params.b2\n",
    "    for i in range(iterations):\n",
    "        #forward pass\n",
    "        L1, A1, L2, A2 = for_pass(W1, W2, b1, b2, x)\n",
    "        #backward pass \n",
    "        dL2, dW2, db2, dL1, dW1, db1 = back_pass(L2, A2, one_hot_y, W2, A1, x, L1)\n",
    "        #weight update\n",
    "        W1, W2, b1, b2 = weight_update(W1, W2, b1, b2, dW1, dW2, db1, db2, alpha)\n",
    "        #acalculating accuracy\n",
    "        predictions = get_predictions(A2)\n",
    "        accuracy = get_accuracy(predictions, y)\n",
    "        if i % 100 == 0:\n",
    "           print(f\"accuracy is {accuracy}\")\n",
    "    return W1, W2, b1, b2\n",
    "            \n",
    "W1, W2, b1, b2, A2 = gradient_descent(x, one_hot_y, 0.01, 1000)\n",
    "L1, A1, L2, A2 = for_pass(W1, W2, b1, b2, x)\n",
    "predictions = get_predictions(A2)\n",
    "accuracy = get_accuracy(predictions, y)\n",
    "print(f\"accuracy is {accuracy}\") \n",
    "\n",
    " "
   ]
  },
  {
   "cell_type": "code",
   "execution_count": null,
   "metadata": {},
   "outputs": [],
   "source": []
  },
  {
   "cell_type": "code",
   "execution_count": null,
   "metadata": {},
   "outputs": [],
   "source": []
  },
  {
   "cell_type": "code",
   "execution_count": 6,
   "metadata": {},
   "outputs": [
    {
     "data": {
      "image/png": "[encoded data removed]",
      "text/plain": [
       "<Figure size 640x480 with 1 Axes>"
      ]
     },
     "metadata": {},
     "output_type": "display_data"
    },
    {
     "name": "stdout",
     "output_type": "stream",
     "text": [
      "Iteration 0: Accuracy is 0.10\n"
     ]
    },
    {
     "ename": "KeyboardInterrupt",
     "evalue": "",
     "output_type": "error",
     "traceback": [
      "\u001b[1;31m---------------------------------------------------------------------------\u001b[0m",
      "\u001b[1;31mKeyboardInterrupt\u001b[0m                         Traceback (most recent call last)",
      "Cell \u001b[1;32mIn[6], line 98\u001b[0m\n\u001b[0;32m     95\u001b[0m     \u001b[38;5;28;01mreturn\u001b[39;00m W1, W2, b1, b2, A2\n\u001b[0;32m     97\u001b[0m \u001b[38;5;66;03m# Example usage:\u001b[39;00m\n\u001b[1;32m---> 98\u001b[0m W1, W2, b1, b2, A2 \u001b[38;5;241m=\u001b[39m \u001b[43mgradient_descent\u001b[49m\u001b[43m(\u001b[49m\u001b[43mx\u001b[49m\u001b[43m,\u001b[49m\u001b[43m \u001b[49m\u001b[43my_one_hot\u001b[49m\u001b[43m,\u001b[49m\u001b[43m \u001b[49m\u001b[43my\u001b[49m\u001b[43m,\u001b[49m\u001b[43m \u001b[49m\u001b[38;5;241;43m0.01\u001b[39;49m\u001b[43m,\u001b[49m\u001b[43m \u001b[49m\u001b[38;5;241;43m5000\u001b[39;49m\u001b[43m)\u001b[49m  \u001b[38;5;66;03m# use a smaller learning rate and more iterations\u001b[39;00m\n\u001b[0;32m    100\u001b[0m \u001b[38;5;66;03m# Final predictions and accuracy\u001b[39;00m\n\u001b[0;32m    101\u001b[0m predictions \u001b[38;5;241m=\u001b[39m get_predictions(A2)\n",
      "Cell \u001b[1;32mIn[6], line 84\u001b[0m, in \u001b[0;36mgradient_descent\u001b[1;34m(x, y_one_hot, y, alpha, iterations)\u001b[0m\n\u001b[0;32m     81\u001b[0m L1, A1, L2, A2 \u001b[38;5;241m=\u001b[39m for_pass(W1, W2, b1, b2)\n\u001b[0;32m     83\u001b[0m \u001b[38;5;66;03m# Backward pass\u001b[39;00m\n\u001b[1;32m---> 84\u001b[0m dL2, dW2, db2, dL1, dW1, db1 \u001b[38;5;241m=\u001b[39m \u001b[43mback_pass\u001b[49m\u001b[43m(\u001b[49m\u001b[43mL2\u001b[49m\u001b[43m,\u001b[49m\u001b[43m \u001b[49m\u001b[43mA2\u001b[49m\u001b[43m,\u001b[49m\u001b[43m \u001b[49m\u001b[43my_one_hot\u001b[49m\u001b[43m,\u001b[49m\u001b[43m \u001b[49m\u001b[43mW2\u001b[49m\u001b[43m,\u001b[49m\u001b[43m \u001b[49m\u001b[43mA1\u001b[49m\u001b[43m,\u001b[49m\u001b[43m \u001b[49m\u001b[43mx\u001b[49m\u001b[43m)\u001b[49m\n\u001b[0;32m     86\u001b[0m \u001b[38;5;66;03m# Update weights\u001b[39;00m\n\u001b[0;32m     87\u001b[0m W1, W2, b1, b2 \u001b[38;5;241m=\u001b[39m weight_update(W1, W2, b1, b2, dW1, dW2, db1, db2, alpha)\n",
      "Cell \u001b[1;32mIn[6], line 56\u001b[0m, in \u001b[0;36mback_pass\u001b[1;34m(L2, A2, y_one_hot, W2, A1, x)\u001b[0m\n\u001b[0;32m     54\u001b[0m db2 \u001b[38;5;241m=\u001b[39m np\u001b[38;5;241m.\u001b[39msum(dL2, axis\u001b[38;5;241m=\u001b[39m\u001b[38;5;241m1\u001b[39m, keepdims\u001b[38;5;241m=\u001b[39m\u001b[38;5;28;01mTrue\u001b[39;00m)\u001b[38;5;241m/\u001b[39mm \u001b[38;5;66;03m# gradient of the bias in the second layer\u001b[39;00m\n\u001b[0;32m     55\u001b[0m dL1 \u001b[38;5;241m=\u001b[39m np\u001b[38;5;241m.\u001b[39mdot(W2\u001b[38;5;241m.\u001b[39mT, dL2) \u001b[38;5;241m*\u001b[39m (A1 \u001b[38;5;241m>\u001b[39m \u001b[38;5;241m0\u001b[39m) \u001b[38;5;66;03m# error in the first layer with ReLU derivative\u001b[39;00m\n\u001b[1;32m---> 56\u001b[0m dW1 \u001b[38;5;241m=\u001b[39m \u001b[43mnp\u001b[49m\u001b[38;5;241;43m.\u001b[39;49m\u001b[43mdot\u001b[49m\u001b[43m(\u001b[49m\u001b[43mdL1\u001b[49m\u001b[43m,\u001b[49m\u001b[43m \u001b[49m\u001b[43mx\u001b[49m\u001b[38;5;241;43m.\u001b[39;49m\u001b[43mT\u001b[49m\u001b[43m)\u001b[49m\u001b[38;5;241m/\u001b[39mm \u001b[38;5;66;03m# gradient of the weights in the first layer\u001b[39;00m\n\u001b[0;32m     57\u001b[0m db1 \u001b[38;5;241m=\u001b[39m np\u001b[38;5;241m.\u001b[39msum(dL1, axis\u001b[38;5;241m=\u001b[39m\u001b[38;5;241m1\u001b[39m, keepdims\u001b[38;5;241m=\u001b[39m\u001b[38;5;28;01mTrue\u001b[39;00m)\u001b[38;5;241m/\u001b[39mm \u001b[38;5;66;03m# gradient of the bias in the first layer\u001b[39;00m\n\u001b[0;32m     58\u001b[0m \u001b[38;5;28;01mreturn\u001b[39;00m dL2, dW2, db2, dL1, dW1, db1\n",
      "\u001b[1;31mKeyboardInterrupt\u001b[0m: "
     ]
    }
   ],
   "source": [
    "import numpy as np \n",
    "import pandas as pd\n",
    "import matplotlib.pyplot as plt\n",
    "\n",
    "# Load the MNIST dataset\n",
    "data = pd.read_csv('train.csv') #MNIST DATASET from kaggle\n",
    "\n",
    "# Extracting the pixel values and labels\n",
    "x = data.iloc[:,1:].values.T / 255.0  # extracting the pixel value and normalizing\n",
    "y = data.iloc[:,0].values.T   # extracting the labels in the first column\n",
    "m, n = data.shape\n",
    "\n",
    "# One-hot encode the labels\n",
    "y_one_hot = np.eye(10)[y].T\n",
    "\n",
    "# Function to display a random image along with its label\n",
    "def image(a):\n",
    "    a = np.random.randint(0, m)\n",
    "    plt.imshow(x[:, a].reshape(28, 28), cmap='gray')\n",
    "    plt.title(\"Label : {}\".format(y[a]))\n",
    "    plt.show()\n",
    "\n",
    "# Display a random image\n",
    "img = image(0)\n",
    "\n",
    "# Initialize parameters\n",
    "def parameters() :\n",
    "    W1 = np.random.randn(128,784) * np.sqrt(2./784)   # He initialization\n",
    "    W2 = np.random.randn(10,128) * np.sqrt(2./128)\n",
    "    b1 = np.zeros((128,1))  # initialize biases to zero\n",
    "    b2 = np.zeros((10,1))\n",
    "    return W1, W2, b1, b2\n",
    "\n",
    "# Activation functions\n",
    "def RELU(x):\n",
    "    return np.maximum(0, x) # rectified linear unit\n",
    "\n",
    "def softmax(x):\n",
    "    exp_x = np.exp(x - np.max(x, axis=0, keepdims=True))  # for numerical stability\n",
    "    return exp_x / np.sum(exp_x, axis=0, keepdims=True) # softmax function\n",
    "\n",
    "# Forward pass\n",
    "def for_pass(W1, W2, b1, b2) :\n",
    "    L1 = np.dot(W1, x) + b1 # first layer\n",
    "    A1 = RELU(L1) # activation function\n",
    "    L2 = np.dot(W2, A1) + b2 # second layer\n",
    "    A2 = softmax(L2) # activation function\n",
    "    return L1, A1, L2, A2\n",
    "\n",
    "# Backward pass\n",
    "def back_pass(L2, A2, y_one_hot, W2, A1, x) :\n",
    "    dL2 = A2 - y_one_hot # error in the second layer\n",
    "    dW2 = np.dot(dL2, A1.T)/m # gradient of the weights in the second layer\n",
    "    db2 = np.sum(dL2, axis=1, keepdims=True)/m # gradient of the bias in the second layer\n",
    "    dL1 = np.dot(W2.T, dL2) * (A1 > 0) # error in the first layer with ReLU derivative\n",
    "    dW1 = np.dot(dL1, x.T)/m # gradient of the weights in the first layer\n",
    "    db1 = np.sum(dL1, axis=1, keepdims=True)/m # gradient of the bias in the first layer\n",
    "    return dL2, dW2, db2, dL1, dW1, db1\n",
    "\n",
    "# Update weights\n",
    "def weight_update(W1, W2, b1, b2, dW1, dW2, db1, db2, alpha) :\n",
    "    W1 = W1 - alpha*dW1    # alpha is the learning rate\n",
    "    W2 = W2 - alpha*dW2\n",
    "    b1 = b1 - alpha*db1\n",
    "    b2 = b2 - alpha*db2\n",
    "    return W1, W2, b1, b2\n",
    "\n",
    "# Get predictions\n",
    "def get_predictions(A2) :\n",
    "    return np.argmax(A2, 0) # returns the index of the maximum value in the array\n",
    "\n",
    "# Get accuracy\n",
    "def get_accuracy(predictions, y) :\n",
    "    return np.sum(predictions == y)/m # returns the accuracy of the model\n",
    "\n",
    "# Gradient descent\n",
    "def gradient_descent(x, y_one_hot, y, alpha, iterations):\n",
    "    W1, W2, b1, b2 = parameters()\n",
    "    for i in range(iterations):\n",
    "        # Forward pass\n",
    "        L1, A1, L2, A2 = for_pass(W1, W2, b1, b2)\n",
    "        \n",
    "        # Backward pass\n",
    "        dL2, dW2, db2, dL1, dW1, db1 = back_pass(L2, A2, y_one_hot, W2, A1, x)\n",
    "        \n",
    "        # Update weights\n",
    "        W1, W2, b1, b2 = weight_update(W1, W2, b1, b2, dW1, dW2, db1, db2, alpha)\n",
    "        \n",
    "        # Monitor training progress\n",
    "        predictions = get_predictions(A2)\n",
    "        accuracy = get_accuracy(predictions, y)\n",
    "        if i % 100 == 0:\n",
    "            print(f\"Iteration {i}: Accuracy is {accuracy:.2f}\")\n",
    "    \n",
    "    return W1, W2, b1, b2, A2\n",
    "\n",
    "# Example usage:\n",
    "W1, W2, b1, b2, A2 = gradient_descent(x, y_one_hot, y, 0.01, 5000)  # use a smaller learning rate and more iterations\n",
    "\n",
    "# Final predictions and accuracy\n",
    "predictions = get_predictions(A2)\n",
    "accuracy = get_accuracy(predictions, y)\n",
    "print(f\"Final accuracy: {accuracy:.2f}\")"
   ]
  }
 ],
 "metadata": {
  "kernelspec": {
   "display_name": "Python 3",
   "language": "python",
   "name": "python3"
  },
  "language_info": {
   "codemirror_mode": {
    "name": "ipython",
    "version": 3
   },
   "file_extension": ".py",
   "mimetype": "text/x-python",
   "name": "python",
   "nbconvert_exporter": "python",
   "pygments_lexer": "ipython3",
   "version": "3.13.0"
  }
 },
 "nbformat": 4,
 "nbformat_minor": 2
}
