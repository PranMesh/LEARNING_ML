{
 "cells": [
  {
   "cell_type": "code",
   "execution_count": 2,
   "metadata": {},
   "outputs": [],
   "source": [
    "import numpy as np"
   ]
  },
  {
   "cell_type": "code",
   "execution_count": 20,
   "metadata": {},
   "outputs": [
    {
     "data": {
      "text/plain": [
       "array([[0],\n",
       "       [1],\n",
       "       [1],\n",
       "       [0]])"
      ]
     },
     "execution_count": 20,
     "metadata": {},
     "output_type": "execute_result"
    }
   ],
   "source": [
    " x = np.array([[0,0,1],[0,1,1], [1,0,1], [1,1,1]])\n",
    " y = np.array([[0,1,1,0]]).T\n",
    " y"
   ]
  },
  {
   "cell_type": "code",
   "execution_count": null,
   "metadata": {},
   "outputs": [],
   "source": [
    "syn1 = 2*np.random.random((3,4)) - 1\n",
    "syn2 = 2*np.random.random((4,1)) - 1"
   ]
  },
  {
   "cell_type": "code",
   "execution_count": 27,
   "metadata": {},
   "outputs": [
    {
     "name": "stderr",
     "output_type": "stream",
     "text": [
      "C:\\Users\\prana\\AppData\\Local\\Temp\\ipykernel_10708\\2866442341.py:3: RuntimeWarning: overflow encountered in exp\n",
      "  l1= 1/ 1 + np.exp(-(np.dot(x, syn1))) #sigmoid function\n",
      "C:\\Users\\prana\\AppData\\Local\\Temp\\ipykernel_10708\\2866442341.py:6: RuntimeWarning: invalid value encountered in multiply\n",
      "  delta_l1 = delta_l2.dot(syn2.T) * (l1 * (1 - l1)) #propagating the eroor backwards\n"
     ]
    }
   ],
   "source": [
    "#forward pass of the neural network\\\n",
    "for j in range(60000):\n",
    "     l1= 1/ 1 + np.exp(-(np.dot(x, syn1))) #sigmoid function\n",
    "     l2= 1/ 1 + np.exp(-(np.dot(l1,syn2)))\n",
    "     delta_l2 = (y-l2)*(l2*(1 + l2)) #derivative of the sigmoid function (l2 * (1 - l2))\n",
    "     delta_l1 = delta_l2.dot(syn2.T) * (l1 * (1 - l1)) #propagating the eroor backwards\n",
    "     syn1 += x.T.dot(delta_l1)\n",
    "     syn2 += l1.T.dot(delta_l2)\n",
    "   \n",
    "\n"
   ]
  },
  {
   "cell_type": "code",
   "execution_count": null,
   "metadata": {},
   "outputs": [
    {
     "ename": "ValueError",
     "evalue": "shapes (4,1) and (4,3) not aligned: 1 (dim 1) != 4 (dim 0)",
     "output_type": "error",
     "traceback": [
      "\u001b[1;31m---------------------------------------------------------------------------\u001b[0m",
      "\u001b[1;31mValueError\u001b[0m                                Traceback (most recent call last)",
      "Cell \u001b[1;32mIn[25], line 2\u001b[0m\n\u001b[0;32m      1\u001b[0m delta_l2 \u001b[38;5;241m=\u001b[39m (y\u001b[38;5;241m-\u001b[39ml2)\u001b[38;5;241m*\u001b[39m(l2\u001b[38;5;241m*\u001b[39m(\u001b[38;5;241m1\u001b[39m \u001b[38;5;241m+\u001b[39m l2)) \u001b[38;5;66;03m#derivative of the sigmoid function (l2 * (1 - l2))\u001b[39;00m\n\u001b[1;32m----> 2\u001b[0m delta_l1 \u001b[38;5;241m=\u001b[39m \u001b[43mdelta_l2\u001b[49m\u001b[38;5;241;43m.\u001b[39;49m\u001b[43mdot\u001b[49m\u001b[43m(\u001b[49m\u001b[43msyn1\u001b[49m\u001b[38;5;241;43m.\u001b[39;49m\u001b[43mT\u001b[49m\u001b[43m)\u001b[49m \u001b[38;5;241m*\u001b[39m (l1 \u001b[38;5;241m*\u001b[39m (\u001b[38;5;241m1\u001b[39m \u001b[38;5;241m-\u001b[39m l1)) \u001b[38;5;66;03m#propgating the eroor backwards\u001b[39;00m\n\u001b[0;32m      3\u001b[0m syn1 \u001b[38;5;241m+\u001b[39m\u001b[38;5;241m=\u001b[39m x\u001b[38;5;241m.\u001b[39mT\u001b[38;5;241m.\u001b[39mdot(delta_l1)\n\u001b[0;32m      4\u001b[0m syn2 \u001b[38;5;241m+\u001b[39m\u001b[38;5;241m=\u001b[39m l1\u001b[38;5;241m.\u001b[39mT\u001b[38;5;241m.\u001b[39mdot(delta_l2)\n",
      "\u001b[1;31mValueError\u001b[0m: shapes (4,1) and (4,3) not aligned: 1 (dim 1) != 4 (dim 0)"
     ]
    }
   ],
   "source": []
  }
 ],
 "metadata": {
  "kernelspec": {
   "display_name": "Python 3",
   "language": "python",
   "name": "python3"
  },
  "language_info": {
   "codemirror_mode": {
    "name": "ipython",
    "version": 3
   },
   "file_extension": ".py",
   "mimetype": "text/x-python",
   "name": "python",
   "nbconvert_exporter": "python",
   "pygments_lexer": "ipython3",
   "version": "3.13.0"
  }
 },
 "nbformat": 4,
 "nbformat_minor": 2
}
