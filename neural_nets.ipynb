{
 "cells": [
  {
   "cell_type": "code",
   "execution_count": 1,
   "metadata": {},
   "outputs": [],
   "source": [
    "import numpy as np"
   ]
  },
  {
   "cell_type": "code",
   "execution_count": null,
   "metadata": {},
   "outputs": [],
   "source": []
  },
  {
   "cell_type": "code",
   "execution_count": 3,
   "metadata": {},
   "outputs": [
    {
     "data": {
      "text/plain": [
       "array([[0],\n",
       "       [1],\n",
       "       [1],\n",
       "       [0]])"
      ]
     },
     "execution_count": 3,
     "metadata": {},
     "output_type": "execute_result"
    }
   ],
   "source": [
    " x = np.array([[0,0,1],[0,1,1], [1,0,1], [1,1,1]])\n",
    " y = np.array([[0,1,1,0]]).T\n",
    " y"
   ]
  },
  {
   "cell_type": "code",
   "execution_count": 8,
   "metadata": {},
   "outputs": [],
   "source": [
    "syn1 = 2*np.random.random((3,4)) - 1\n",
    "syn2 = 2*np.random.random((4,1)) - 1"
   ]
  },
  {
   "cell_type": "code",
   "execution_count": 10,
   "metadata": {},
   "outputs": [
    {
     "name": "stdout",
     "output_type": "stream",
     "text": [
      "Synaptic weights after training:\n",
      "syn1: [[nan nan nan nan]\n",
      " [nan nan nan nan]\n",
      " [nan nan nan nan]]\n",
      "syn2: [[nan]\n",
      " [nan]\n",
      " [nan]\n",
      " [nan]]\n",
      "Output after training:\n",
      "[[nan]\n",
      " [nan]\n",
      " [nan]\n",
      " [nan]]\n"
     ]
    }
   ],
   "source": [
    "#forward pass of the neural network\n",
    "for j in range(60000):\n",
    "    l1 = 1 / (1 + np.exp(-np.dot(x, syn1))) #sigmoid function\n",
    "    l2 = 1 / (1 + np.exp(-np.dot(l1, syn2)))\n",
    "    delta_l2 = (y - l2) * (l2 * (1 - l2)) #derivative of the sigmoid function (l2 * (1 - l2))\n",
    "    delta_l1 = delta_l2.dot(syn2.T) * (l1 * (1 - l1)) #propagating the error backwards\n",
    "    syn1 += x.T.dot(delta_l1)\n",
    "    syn2 += l1.T.dot(delta_l2)\n",
    "# Print the final synaptic weights\n",
    "print(\"Synaptic weights after training:\")\n",
    "print(\"syn1:\", syn1)\n",
    "print(\"syn2:\", syn2)\n",
    "\n",
    "# Print the final output\n",
    "print(\"Output after training:\")\n",
    "print(l2)\n",
    "\n"
   ]
  },
  {
   "cell_type": "code",
   "execution_count": null,
   "metadata": {},
   "outputs": [],
   "source": []
  },
  {
   "cell_type": "code",
   "execution_count": null,
   "metadata": {},
   "outputs": [],
   "source": []
  }
 ],
 "metadata": {
  "kernelspec": {
   "display_name": "Python 3",
   "language": "python",
   "name": "python3"
  },
  "language_info": {
   "codemirror_mode": {
    "name": "ipython",
    "version": 3
   },
   "file_extension": ".py",
   "mimetype": "text/x-python",
   "name": "python",
   "nbconvert_exporter": "python",
   "pygments_lexer": "ipython3",
   "version": "3.13.0"
  }
 },
 "nbformat": 4,
 "nbformat_minor": 2
}
